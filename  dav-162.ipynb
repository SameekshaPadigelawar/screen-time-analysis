{
 "cells": [
  {
   "cell_type": "code",
   "execution_count": 1,
   "id": "f97e4c14-a90a-470d-8a92-936baab2145b",
   "metadata": {},
   "outputs": [
    {
     "name": "stdout",
     "output_type": "stream",
     "text": [
      "Defaulting to user installation because normal site-packages is not writeable\n",
      "Requirement already satisfied: pandas in c:\\users\\samiksha\\appdata\\roaming\\python\\python313\\site-packages (2.2.3)\n",
      "Requirement already satisfied: numpy in c:\\users\\samiksha\\appdata\\roaming\\python\\python313\\site-packages (2.2.4)\n",
      "Requirement already satisfied: matplotlib in c:\\users\\samiksha\\appdata\\roaming\\python\\python313\\site-packages (3.10.1)\n",
      "Requirement already satisfied: seaborn in c:\\users\\samiksha\\appdata\\roaming\\python\\python313\\site-packages (0.13.2)\n",
      "Requirement already satisfied: python-dateutil>=2.8.2 in c:\\users\\samiksha\\appdata\\roaming\\python\\python313\\site-packages (from pandas) (2.9.0.post0)\n",
      "Requirement already satisfied: pytz>=2020.1 in c:\\users\\samiksha\\appdata\\roaming\\python\\python313\\site-packages (from pandas) (2025.2)\n",
      "Requirement already satisfied: tzdata>=2022.7 in c:\\users\\samiksha\\appdata\\roaming\\python\\python313\\site-packages (from pandas) (2025.2)\n",
      "Requirement already satisfied: contourpy>=1.0.1 in c:\\users\\samiksha\\appdata\\roaming\\python\\python313\\site-packages (from matplotlib) (1.3.1)\n",
      "Requirement already satisfied: cycler>=0.10 in c:\\users\\samiksha\\appdata\\roaming\\python\\python313\\site-packages (from matplotlib) (0.12.1)\n",
      "Requirement already satisfied: fonttools>=4.22.0 in c:\\users\\samiksha\\appdata\\roaming\\python\\python313\\site-packages (from matplotlib) (4.57.0)\n",
      "Requirement already satisfied: kiwisolver>=1.3.1 in c:\\users\\samiksha\\appdata\\roaming\\python\\python313\\site-packages (from matplotlib) (1.4.8)\n",
      "Requirement already satisfied: packaging>=20.0 in c:\\users\\samiksha\\appdata\\roaming\\python\\python313\\site-packages (from matplotlib) (24.2)\n",
      "Requirement already satisfied: pillow>=8 in c:\\users\\samiksha\\appdata\\roaming\\python\\python313\\site-packages (from matplotlib) (11.1.0)\n",
      "Requirement already satisfied: pyparsing>=2.3.1 in c:\\users\\samiksha\\appdata\\roaming\\python\\python313\\site-packages (from matplotlib) (3.2.3)\n",
      "Requirement already satisfied: six>=1.5 in c:\\users\\samiksha\\appdata\\roaming\\python\\python313\\site-packages (from python-dateutil>=2.8.2->pandas) (1.17.0)\n"
     ]
    },
    {
     "name": "stderr",
     "output_type": "stream",
     "text": [
      "\n",
      "[notice] A new release of pip is available: 24.3.1 -> 25.0.1\n",
      "[notice] To update, run: python.exe -m pip install --upgrade pip\n"
     ]
    }
   ],
   "source": [
    "!pip install pandas numpy matplotlib seaborn"
   ]
  },
  {
   "cell_type": "code",
   "execution_count": 2,
   "id": "1df6d4d0-f15c-4761-b1e8-a29545e6e6b0",
   "metadata": {},
   "outputs": [],
   "source": [
    "import pandas as pd\n",
    "import numpy as np\n",
    "import matplotlib.pyplot as plt\n",
    "import seaborn as sns"
   ]
  },
  {
   "cell_type": "code",
   "execution_count": 3,
   "id": "424a66aa-4bea-466d-a6b1-b95e4396b9d4",
   "metadata": {},
   "outputs": [
    {
     "name": "stdout",
     "output_type": "stream",
     "text": [
      "   Age Gender Screen Time Type Day Type  Average Screen Time (hours)  \\\n",
      "0    5   Male      Educational  Weekday                         0.44   \n",
      "1    5   Male     Recreational  Weekday                         1.11   \n",
      "2    5   Male            Total  Weekday                         1.55   \n",
      "3    5   Male      Educational  Weekend                         0.50   \n",
      "4    5   Male     Recreational  Weekend                         1.44   \n",
      "\n",
      "   Sample Size  \n",
      "0          500  \n",
      "1          500  \n",
      "2          500  \n",
      "3          500  \n",
      "4          500  \n",
      "     Age                   Gender Screen Time Type Day Type  \\\n",
      "195   15  Other/Prefer not to say      Educational  Weekend   \n",
      "196   15  Other/Prefer not to say     Recreational  Weekend   \n",
      "197   15  Other/Prefer not to say            Total  Weekend   \n",
      "\n",
      "     Average Screen Time (hours)  Sample Size  \n",
      "195                         2.19          300  \n",
      "196                         5.77          300  \n",
      "197                         7.96          300  \n",
      "Age                              int64\n",
      "Gender                          object\n",
      "Screen Time Type                object\n",
      "Day Type                        object\n",
      "Average Screen Time (hours)    float64\n",
      "Sample Size                      int64\n",
      "dtype: object\n",
      "Age                            0\n",
      "Gender                         0\n",
      "Screen Time Type               0\n",
      "Day Type                       0\n",
      "Average Screen Time (hours)    0\n",
      "Sample Size                    0\n",
      "dtype: int64\n"
     ]
    }
   ],
   "source": [
    "df = pd.read_csv(\"screen_time.csv\")  # Make sure the file is in the same folder\n",
    "\n",
    "print(df.head())        # First 5 rows\n",
    "print(df.tail(3))       # Last 3 rows\n",
    "print(df.dtypes)        # Data types\n",
    "print(df.isna().sum())  # Missing values"
   ]
  },
  {
   "cell_type": "code",
   "execution_count": 4,
   "id": "10023450-4468-43a5-a7b0-d7f92b019c4e",
   "metadata": {},
   "outputs": [],
   "source": [
    "# Fill missing ages with median (use correct column name if different)\n",
    "df['Age'] = df['Age'].fillna(np.nanmedian(df['Age']))\n",
    "\n",
    "# Convert gender to numbers\n",
    "df['Gender'] = df['Gender'].map({'male': 0, 'female': 1})\n",
    "\n",
    "# Drop unnecessary columns (change names based on your dataset)\n",
    "df = df.drop(columns=['Name', 'Cabin', 'Ticket'], errors='ignore')"
   ]
  },
  {
   "cell_type": "code",
   "execution_count": 5,
   "id": "5d447c9c-f6a4-494d-95e1-6925d467e60e",
   "metadata": {},
   "outputs": [
    {
     "name": "stdout",
     "output_type": "stream",
     "text": [
      "Mean age: 10.0\n",
      "Median screen time: 2.49\n",
      "Standard deviation of age: 3.1622776601683795\n",
      "Series([], Name: Average Screen Time (hours), dtype: float64)\n",
      "Number of heavy screen time users: 2\n"
     ]
    }
   ],
   "source": [
    "print(\"Mean age:\", np.mean(df['Age']))\n",
    "print(\"Median screen time:\", np.median(df['Average Screen Time (hours)']))\n",
    "print(\"Standard deviation of age:\", np.std(df['Age']))\n",
    "\n",
    "# Groupby analysis\n",
    "print(df.groupby('Gender')['Average Screen Time (hours)'].mean())\n",
    "\n",
    "# Filtering heavy screen users\n",
    "heavy_users = df[(df['Average Screen Time (hours)'] > 8)]\n",
    "print(\"Number of heavy screen time users:\", len(heavy_users))\n"
   ]
  },
  {
   "cell_type": "code",
   "execution_count": 6,
   "id": "7df90332-b891-4cdd-a3bc-7e6c8080d0b8",
   "metadata": {},
   "outputs": [
    {
     "name": "stdout",
     "output_type": "stream",
     "text": [
      "Empty DataFrame\n",
      "Columns: []\n",
      "Index: []\n"
     ]
    }
   ],
   "source": [
    "pivot = pd.pivot_table(df, index='Day Type', columns='Gender', values='Average Screen Time (hours)', aggfunc='mean')\n",
    "print(pivot)\n"
   ]
  },
  {
   "cell_type": "code",
   "execution_count": 7,
   "id": "11181b1f-603c-4c96-8019-5d1fe09a6326",
   "metadata": {},
   "outputs": [
    {
     "name": "stdout",
     "output_type": "stream",
     "text": [
      "Index(['Age', 'Gender', 'Screen Time Type', 'Day Type',\n",
      "       'Average Screen Time (hours)', 'Sample Size'],\n",
      "      dtype='object')\n"
     ]
    }
   ],
   "source": [
    "print(df.columns)"
   ]
  },
  {
   "cell_type": "code",
   "execution_count": 8,
   "id": "bc650f80-da92-4568-8e72-523ebfdc4b14",
   "metadata": {},
   "outputs": [
    {
     "name": "stdout",
     "output_type": "stream",
     "text": [
      "Gender\n",
      "NaN    198\n",
      "Name: count, dtype: int64\n"
     ]
    }
   ],
   "source": [
    "print(df['Gender'].value_counts(dropna=False))\n"
   ]
  },
  {
   "cell_type": "code",
   "execution_count": 9,
   "id": "4177f90e-a252-4cd7-80f6-e021f21fb14c",
   "metadata": {},
   "outputs": [
    {
     "name": "stdout",
     "output_type": "stream",
     "text": [
      "          Average Screen Time (hours)\n",
      "Day Type                             \n",
      "Weekday                      2.661111\n",
      "Weekend                      3.324949\n"
     ]
    }
   ],
   "source": [
    "pivot = pd.pivot_table(\n",
    "    df,\n",
    "    index='Day Type',\n",
    "    values='Average Screen Time (hours)',\n",
    "    aggfunc='mean'\n",
    ")\n",
    "print(pivot)\n"
   ]
  },
  {
   "cell_type": "code",
   "execution_count": 11,
   "id": "54e3840d-7683-4b30-ab90-6c1faa01edc7",
   "metadata": {},
   "outputs": [
    {
     "data": {
      "image/png": "[encoded data removed]",
      "text/plain": [
       "<Figure size 640x480 with 1 Axes>"
      ]
     },
     "metadata": {},
     "output_type": "display_data"
    }
   ],
   "source": [
    "plt.hist(df['Age'], bins=20, color='skyblue')\n",
    "plt.title('Age Distribution')\n",
    "plt.xlabel('Age')\n",
    "plt.ylabel('Count')\n",
    "plt.show()\n"
   ]
  },
  {
   "cell_type": "code",
   "execution_count": 12,
   "id": "0eb8ebc0-7516-4415-8e5e-371c5887793a",
   "metadata": {},
   "outputs": [
    {
     "data": {
      "image/png": "[encoded data removed]",
      "text/plain": [
       "<Figure size 640x480 with 1 Axes>"
      ]
     },
     "metadata": {},
     "output_type": "display_data"
    }
   ],
   "source": [
    "sns.barplot(x='Day Type', y='Average Screen Time (hours)', data=df)\n",
    "plt.title('Average Screen Time by Day Type')\n",
    "plt.show()\n"
   ]
  },
  {
   "cell_type": "code",
   "execution_count": null,
   "id": "b6ab16da-e1fe-4417-aa90-9a23bbc6fa27",
   "metadata": {},
   "outputs": [],
   "source": []
  },
  {
   "cell_type": "code",
   "execution_count": 13,
   "id": "320c2065-2e45-4c21-ab39-06f01f0954a8",
   "metadata": {},
   "outputs": [
    {
     "data": {
      "image/png": "[encoded data removed]",
      "text/plain": [
       "<Figure size 640x480 with 1 Axes>"
      ]
     },
     "metadata": {},
     "output_type": "display_data"
    }
   ],
   "source": [
    "sns.boxplot(x='Screen Time Type', y='Average Screen Time (hours)', data=df)\n",
    "plt.title('Screen Time Distribution by Type')\n",
    "plt.xticks(rotation=45)\n",
    "plt.show()\n"
   ]
  },
  {
   "cell_type": "code",
   "execution_count": 14,
   "id": "434b0b80-e740-4ca7-8767-5ebfe19b60d4",
   "metadata": {},
   "outputs": [
    {
     "name": "stdout",
     "output_type": "stream",
     "text": [
      "Number of young adults (18-25): 0\n"
     ]
    }
   ],
   "source": [
    "# Normalize age using z-score\n",
    "age_mean = np.mean(df['Age'])\n",
    "age_std = np.std(df['Age'])\n",
    "df['Age_zscore'] = (df['Age'] - age_mean) / age_std\n",
    "\n",
    "# Boolean indexing\n",
    "ages = df['Age'].values\n",
    "young_adults = df[np.logical_and(ages >= 18, ages <= 25)]\n",
    "print(\"Number of young adults (18-25):\", len(young_adults))\n"
   ]
  },
  {
   "cell_type": "code",
   "execution_count": 16,
   "id": "dfd4c831-f0f1-4f2e-bbe8-f52e695547a0",
   "metadata": {},
   "outputs": [
    {
     "name": "stdout",
     "output_type": "stream",
     "text": [
      "   Average Screen Time (hours)  Net Usage\n",
      "0                         0.44       0.44\n",
      "1                         1.11       1.11\n",
      "2                         1.55       1.55\n",
      "3                         0.50       0.50\n",
      "4                         1.44       1.44\n"
     ]
    }
   ],
   "source": [
    "# Just copy average screen time to simulate \"Net Usage\"\n",
    "df['Net Usage'] = df['Average Screen Time (hours)']  # or modify it if needed\n",
    "print(df[['Average Screen Time (hours)', 'Net Usage']].head())\n"
   ]
  },
  {
   "cell_type": "code",
   "execution_count": 18,
   "id": "0c1d5525-6a15-4b3b-b4d8-c644edc057b2",
   "metadata": {},
   "outputs": [
    {
     "name": "stdout",
     "output_type": "stream",
     "text": [
      "Pivot 1:\n",
      " Empty DataFrame\n",
      "Columns: []\n",
      "Index: []\n",
      "\n",
      "Pivot 2:\n",
      " Empty DataFrame\n",
      "Columns: []\n",
      "Index: []\n",
      "\n",
      "Groupby Comparison:\n",
      " Series([], Name: Average Screen Time (hours), dtype: float64)\n"
     ]
    }
   ],
   "source": [
    "# Pivot 1 — use a valid column name\n",
    "pivot1 = pd.pivot_table(df, index='Gender', values='Average Screen Time (hours)', aggfunc='sum')\n",
    "print(\"Pivot 1:\\n\", pivot1)\n",
    "\n",
    "# Pivot 2 — same fix\n",
    "pivot2 = pd.pivot_table(df, index='Day Type', columns='Gender', values='Average Screen Time (hours)', aggfunc='mean')\n",
    "print(\"\\nPivot 2:\\n\", pivot2)\n",
    "\n",
    "# Groupby comparison — this is fine as-is\n",
    "groupby_comparison = df.groupby(['Day Type', 'Gender'])['Average Screen Time (hours)'].mean()\n",
    "print(\"\\nGroupby Comparison:\\n\", groupby_comparison)\n"
   ]
  },
  {
   "cell_type": "code",
   "execution_count": 19,
   "id": "a1aa5c4e-5b7f-499f-9ae9-e91809aa4ddd",
   "metadata": {},
   "outputs": [
    {
     "name": "stdout",
     "output_type": "stream",
     "text": [
      "Overall average screen time: 2.9930303030303023\n",
      "Max screen time: 8.19\n",
      "Min screen time: 0.44\n"
     ]
    }
   ],
   "source": [
    "print(\"Overall average screen time:\", df['Average Screen Time (hours)'].mean())\n",
    "print(\"Max screen time:\", df['Average Screen Time (hours)'].max())\n",
    "print(\"Min screen time:\", df['Average Screen Time (hours)'].min())\n"
   ]
  },
  {
   "cell_type": "code",
   "execution_count": 20,
   "id": "fef37d67-0582-4557-b2ce-7305b723f17d",
   "metadata": {},
   "outputs": [
    {
     "name": "stdout",
     "output_type": "stream",
     "text": [
      "Screen Time Type\n",
      "Educational     1.226970\n",
      "Recreational    3.262273\n",
      "Total           4.489848\n",
      "Name: Average Screen Time (hours), dtype: float64\n"
     ]
    }
   ],
   "source": [
    "# Average screen time per type\n",
    "print(df.groupby('Screen Time Type')['Average Screen Time (hours)'].mean())\n"
   ]
  },
  {
   "cell_type": "code",
   "execution_count": 21,
   "id": "72a44cbb-c566-491d-b111-66fc8a21bfd5",
   "metadata": {},
   "outputs": [
    {
     "name": "stdout",
     "output_type": "stream",
     "text": [
      "Day Type\n",
      "Weekday    2.661111\n",
      "Weekend    3.324949\n",
      "Name: Average Screen Time (hours), dtype: float64\n"
     ]
    }
   ],
   "source": [
    "# Compare usage on Weekdays vs Weekends\n",
    "weekday_vs_weekend = df.groupby('Day Type')['Average Screen Time (hours)'].mean()\n",
    "print(weekday_vs_weekend)\n"
   ]
  },
  {
   "cell_type": "code",
   "execution_count": 22,
   "id": "c3c42bf4-60cb-45ad-abc5-707cd9d09a9c",
   "metadata": {},
   "outputs": [
    {
     "name": "stdout",
     "output_type": "stream",
     "text": [
      "User(s) with highest screen time:\n",
      "      Age  Gender Screen Time Type Day Type  Average Screen Time (hours)  \\\n",
      "191   15     NaN            Total  Weekend                         8.19   \n",
      "\n",
      "     Sample Size  Age_zscore  Net Usage  \n",
      "191          300    1.581139       8.19  \n"
     ]
    }
   ],
   "source": [
    "# Highest screen time entry\n",
    "max_user = df[df['Average Screen Time (hours)'] == df['Average Screen Time (hours)'].max()]\n",
    "print(\"User(s) with highest screen time:\\n\", max_user)\n"
   ]
  },
  {
   "cell_type": "code",
   "execution_count": 23,
   "id": "2f377bb4-68d1-484b-bb51-55b53de696cb",
   "metadata": {},
   "outputs": [
    {
     "data": {
      "image/png": "[encoded data removed]",
      "text/plain": [
       "<Figure size 600x400 with 1 Axes>"
      ]
     },
     "metadata": {},
     "output_type": "display_data"
    }
   ],
   "source": [
    "import matplotlib.pyplot as plt\n",
    "import seaborn as sns\n",
    "\n",
    "# Bar plot of screen time by Day Type\n",
    "plt.figure(figsize=(6,4))\n",
    "sns.barplot(x='Day Type', y='Average Screen Time (hours)', data=df)\n",
    "plt.title('Average Screen Time by Day Type')\n",
    "plt.show()\n"
   ]
  },
  {
   "cell_type": "code",
   "execution_count": 24,
   "id": "4e4866bc-1c68-42ea-96ee-55e27b9ac37a",
   "metadata": {},
   "outputs": [
    {
     "name": "stdout",
     "output_type": "stream",
     "text": [
      "   Average Screen Time (hours) Usage Category\n",
      "0                         0.44            Low\n",
      "1                         1.11            Low\n",
      "2                         1.55            Low\n",
      "3                         0.50            Low\n",
      "4                         1.44            Low\n"
     ]
    }
   ],
   "source": [
    "def usage_category(hours):\n",
    "    if hours < 2:\n",
    "        return 'Low'\n",
    "    elif hours < 5:\n",
    "        return 'Moderate'\n",
    "    else:\n",
    "        return 'High'\n",
    "\n",
    "df['Usage Category'] = df['Average Screen Time (hours)'].apply(usage_category)\n",
    "print(df[['Average Screen Time (hours)', 'Usage Category']].head())\n"
   ]
  },
  {
   "cell_type": "code",
   "execution_count": null,
   "id": "66b48525-e573-45c6-bd55-3c05b669a669",
   "metadata": {},
   "outputs": [],
   "source": []
  }
 ],
 "metadata": {
  "kernelspec": {
   "display_name": "Python 3 (ipykernel)",
   "language": "python",
   "name": "python3"
  },
  "language_info": {
   "codemirror_mode": {
    "name": "ipython",
    "version": 3
   },
   "file_extension": ".py",
   "mimetype": "text/x-python",
   "name": "python",
   "nbconvert_exporter": "python",
   "pygments_lexer": "ipython3",
   "version": "3.13.2"
  }
 },
 "nbformat": 4,
 "nbformat_minor": 5
}
